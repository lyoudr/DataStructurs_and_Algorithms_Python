{
 "cells": [
  {
   "cell_type": "code",
   "execution_count": 1,
   "metadata": {},
   "outputs": [
    {
     "name": "stdout",
     "output_type": "stream",
     "text": [
      "sorted_a is -> [1, 3, 4, 5, 6, 7, 8, 9]\n"
     ]
    }
   ],
   "source": [
    "def merge(S1, S2, S):\n",
    "    \"\"\"Merge two sorted Python lists S1 and S2 into properly sized list S.\"\"\"\n",
    "    i = j = 0\n",
    "    while i + j < len(S):\n",
    "        if j == len(S2) or (i < len(S1) and S1[i] < S2[j]):\n",
    "            S[i + j] = S1[i]\n",
    "            i += 1\n",
    "        else:\n",
    "            S[i + j] = S2[j]\n",
    "            j += 1\n",
    "# nlog(n)\n",
    "def merge_sort(S):\n",
    "    \"\"\"Sort the elements of Python list S using the merge-sort algorithm.\"\"\"\n",
    "    n = len(S)\n",
    "    if n < 2:\n",
    "        return        # list is already sorted\n",
    "\n",
    "    # divide\n",
    "    mid = n // 2\n",
    "    S1 = S[0:mid]     # copy of first half\n",
    "    S2 = S[mid:n]     # copy of second half\n",
    "\n",
    "    # conquer (with recursion)\n",
    "    merge_sort(S1)    # sort copy of first half\n",
    "    merge_sort(S2)    # sort copy of second half\n",
    "\n",
    "    # merge results\n",
    "    merge(S1, S2, S)  # merge sorted halves back into S\n",
    "\n",
    "    return S\n",
    "\n",
    "a = [1, 6, 4, 3, 7, 8, 9, 5]\n",
    "sorted_a = merge_sort(a)\n",
    "print(\"sorted_a is ->\", sorted_a)\n",
    "\n",
    "\n"
   ]
  }
 ],
 "metadata": {
  "kernelspec": {
   "display_name": ".venv",
   "language": "python",
   "name": "python3"
  },
  "language_info": {
   "codemirror_mode": {
    "name": "ipython",
    "version": 3
   },
   "file_extension": ".py",
   "mimetype": "text/x-python",
   "name": "python",
   "nbconvert_exporter": "python",
   "pygments_lexer": "ipython3",
   "version": "3.9.6"
  }
 },
 "nbformat": 4,
 "nbformat_minor": 2
}
