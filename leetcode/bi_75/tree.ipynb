{
 "cells": [
  {
   "cell_type": "code",
   "execution_count": 3,
   "metadata": {},
   "outputs": [
    {
     "name": "stdout",
     "output_type": "stream",
     "text": [
      "True\n"
     ]
    }
   ],
   "source": [
    "from typing import Optional\n",
    "\n",
    "# 104. Maximum Depth of Binary Tree\n",
    "\"\"\"\n",
    "Given the root of a binary tree, return its maximum depth.\n",
    "\n",
    "A binary tree's maximum depth is the number of nodes along the longest path from the root node down to the farthest leaf node.\n",
    "\"\"\"\n",
    "# Definition for a binary tree node.\n",
    "class TreeNode:\n",
    "    def __init__(self, val=0, left=None, right=None):\n",
    "        self.val = val\n",
    "        self.left = left\n",
    "        self.right = right\n",
    "\n",
    "class Solution:\n",
    "    def maxDepth(self, root: Optional[TreeNode]) -> int:\n",
    "        if root:\n",
    "            return 1 + max(self.maxDepth(root.left), self.maxDepth(root.right))\n",
    "        else:\n",
    "            return 0\n",
    "\n",
    "\n",
    "# -----------------------------------------------------------------------------------\n",
    "# 100. Same Tree\n",
    "\"\"\"\n",
    "Given the roots of two binary trees p and q, write a function to check if they are the same or not.\n",
    "\n",
    "Two binary trees are considered the same if they are structurally identical, and the nodes have the same value.\n",
    "\"\"\"\n",
    "# Definition for a binary tree node.\n",
    "class TreeNode:\n",
    "    def __init__(self, val=0, left=None, right=None):\n",
    "        self.val = val\n",
    "        self.left = left\n",
    "        self.right = right\n",
    "class Solution:\n",
    "    def isSameTree(self, p: Optional[TreeNode], q: Optional[TreeNode]) -> bool:\n",
    "        # Base case: If both trees are empty, they are the same\n",
    "        if not p and not q:\n",
    "            return True\n",
    "        \n",
    "        # If one tree is empty and the other is not, they are not the same\n",
    "        if not p or not q:\n",
    "            return False\n",
    "        \n",
    "        # Check if the values of the current nodes are the same\n",
    "        if p.val != q.val:\n",
    "            return False \n",
    "        \n",
    "        # Recursively check the left and right subtrees\n",
    "        return self.isSameTree(p.left, q.left) and self.isSameTree(p.right, q.right)\n",
    "# ---------------------------------------------------------------------------------------------\n",
    "# 226. Invert Binary Tree\n",
    "\"\"\"\n",
    "Given the root of a binary tree, invert the tree, and return its root.\n",
    "\"\"\"\n",
    "# Definition for a binary tree node.\n",
    "class TreeNode:\n",
    "    def __init__(self, val=0, left=None, right=None):\n",
    "        self.val = val\n",
    "        self.left = left\n",
    "        self.right = right\n",
    "class Solution:\n",
    "    def invertTree(self, root: Optional[TreeNode]) -> Optional[TreeNode]:\n",
    "        \n",
    "        if root:\n",
    "            if root.left or root.right:\n",
    "                left = root.left\n",
    "                right = root.right\n",
    "                root.left = right\n",
    "                root.right = left\n",
    "        if root:\n",
    "            self.invertTree(root.left)\n",
    "            self.invertTree(root.right)\n",
    "        \n",
    "        return root\n",
    "    "
   ]
  }
 ],
 "metadata": {
  "kernelspec": {
   "display_name": "bk_venv",
   "language": "python",
   "name": "python3"
  },
  "language_info": {
   "codemirror_mode": {
    "name": "ipython",
    "version": 3
   },
   "file_extension": ".py",
   "mimetype": "text/x-python",
   "name": "python",
   "nbconvert_exporter": "python",
   "pygments_lexer": "ipython3",
   "version": "3.9.6"
  }
 },
 "nbformat": 4,
 "nbformat_minor": 2
}
