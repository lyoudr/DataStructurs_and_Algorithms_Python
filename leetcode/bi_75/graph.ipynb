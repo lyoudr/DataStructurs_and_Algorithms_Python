{
 "cells": [
  {
   "cell_type": "code",
   "execution_count": 12,
   "metadata": {},
   "outputs": [
    {
     "name": "stdout",
     "output_type": "stream",
     "text": [
      "[]\n",
      "i 1\n",
      "j 0\n",
      "i 0\n",
      "j 1\n",
      "[[1], [0]]\n",
      "[-1, -1]\n",
      "0\n"
     ]
    }
   ],
   "source": [
    "from typing import List \n",
    "\n",
    "# 417. Pacific Atlantic Water Flow\n",
    "\"\"\"\n",
    "There is an m x n rectangular island that borders both the Pacific Ocean and Atlantic Ocean. The Pacific Ocean touches the island's left and top edges, and the Atlantic Ocean touches the island's right and bottom edges.\n",
    "\n",
    "The island is partitioned into a grid of square cells. You are given an m x n integer matrix heights where heights[r][c] represents the height above sea level of the cell at coordinate (r, c).\n",
    "\n",
    "The island receives a lot of rain, and the rain water can flow to neighboring cells directly north, south, east, and west if the neighboring cell's height is less than or equal to the current cell's height. Water can flow from any cell adjacent to an ocean into the ocean.\n",
    "\n",
    "Return a 2D list of grid coordinates result where result[i] = [ri, ci] denotes that rain water can flow from cell (ri, ci) to both the Pacific and Atlantic oceans. \n",
    "\"\"\"\n",
    "class Solution:\n",
    "    def pacificAtlantic(self, heights: List[List[int]]) -> List[List[int]]:\n",
    "        rows, cols = len(heights), len(heights[0])\n",
    "        pac, atl = set(), set()\n",
    "\n",
    "        # Define DFS function to traverse the matrix and mark cells reachable\n",
    "        def dfs(r, c, visit, prevHeight):\n",
    "            # Base cases for termination of DFS traversal\n",
    "            if (\n",
    "                (r, c) in visit\n",
    "                or r < 0\n",
    "                or c < 0\n",
    "                or r == rows \n",
    "                or c == cols\n",
    "                or heights[r][c] < prevHeight\n",
    "            ):\n",
    "                return \n",
    "            visit.add((r, c))\n",
    "            # Recursive calls for DFS traversal in four directions\n",
    "            dfs(r + 1, c, visit, heights[r][c])\n",
    "            dfs(r - 1, c, visit, heights[r][c])\n",
    "            dfs(r, c + 1, visit, heights[r][c])\n",
    "            dfs(r, c - 1, visit, heights[r][c])\n",
    "\n",
    "        # DFS from top and bottom borders to mark cells reachable by Pacific and Atlantic\n",
    "        for c in range(cols): \n",
    "            dfs(0, c, pac, heights[0][c])\n",
    "            dfs(rows - 1, c, atl, heights[rows - 1][c])\n",
    "        \n",
    "        # DFS from left and right borders to mark cells reachable by Pacific and Atlantic\n",
    "        for r in range(rows):\n",
    "            dfs(r, 0, pac, heights[r][0])\n",
    "            dfs(r, cols - 1, atl, heights[r][cols - 1])\n",
    "        \n",
    "        # Find cells reachable from both oceans and store their coordinates in res \n",
    "        res = []\n",
    "        for r in range(rows):\n",
    "            for c in range(cols):\n",
    "                if (r, c) in pac and (r, c) in atl:\n",
    "                    res.append([r, c])\n",
    "        return res \n",
    "\n",
    "# ----------------------------------------------------------------------------------------------\n"
   ]
  }
 ],
 "metadata": {
  "kernelspec": {
   "display_name": "bi_venv",
   "language": "python",
   "name": "python3"
  },
  "language_info": {
   "codemirror_mode": {
    "name": "ipython",
    "version": 3
   },
   "file_extension": ".py",
   "mimetype": "text/x-python",
   "name": "python",
   "nbconvert_exporter": "python",
   "pygments_lexer": "ipython3",
   "version": "3.9.6"
  }
 },
 "nbformat": 4,
 "nbformat_minor": 2
}
