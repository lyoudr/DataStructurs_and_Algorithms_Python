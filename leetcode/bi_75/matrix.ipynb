{
 "cells": [
  {
   "cell_type": "code",
   "execution_count": null,
   "metadata": {},
   "outputs": [],
   "source": [
    "from typing import List \n",
    "# 73. Set Matrix Zeroes\n",
    "\"\"\"\n",
    "Given an m x n integer matrix matrix, if an element is 0, set its entire row and column to 0's.\n",
    "\n",
    "You must do it in place.\n",
    "\"\"\"\n",
    "class Solution:\n",
    "    def setZeroes(self, matrix: List[List[int]]) -> None:\n",
    "        \"\"\"\n",
    "        Do not return anything, modify matrix in-place instead.\n",
    "        \"\"\"\n",
    "        to_zero_row = set()\n",
    "        to_zero_col= set()\n",
    "        for i, row in enumerate(matrix):\n",
    "            for j, column in enumerate(row):\n",
    "                if column == 0:\n",
    "                    to_zero_row.add(i)\n",
    "                    to_zero_col.add(j)\n",
    "        \n",
    "        for i, row in enumerate(matrix):\n",
    "            for j, column in enumerate(row):\n",
    "                if i in to_zero_row or j in to_zero_col:\n",
    "                    matrix[i][j] = 0\n",
    "        return matrix"
   ]
  }
 ],
 "metadata": {
  "language_info": {
   "name": "python"
  }
 },
 "nbformat": 4,
 "nbformat_minor": 2
}
