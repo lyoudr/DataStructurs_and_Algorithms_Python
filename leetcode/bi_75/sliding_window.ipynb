{
 "cells": [
  {
   "cell_type": "code",
   "execution_count": 8,
   "metadata": {},
   "outputs": [
    {
     "name": "stdout",
     "output_type": "stream",
     "text": [
      "s1Count is -> [1, 1, 1, 0, 0, 0, 0, 0, 0, 0, 0, 0, 0, 0, 0, 0, 0, 0, 0, 0, 0, 0, 0, 0, 0, 0]\n",
      "97\n",
      "98\n"
     ]
    }
   ],
   "source": [
    "from typing import List \n",
    "# 121. Best Time to Buy and Sell Stock\n",
    "# may exceeds time limit\n",
    "def best_time_to_buy_stock(prices: List):\n",
    "    l = 0 \n",
    "    r = 1\n",
    "    max_pro = 0\n",
    "\n",
    "    for gap in range(len(prices)):\n",
    "        l = 0\n",
    "        r = l + gap\n",
    "        while r < len(prices):\n",
    "            cur_pro = prices[r] - prices[l]\n",
    "            if cur_pro > max_pro:\n",
    "                max_pro = cur_pro\n",
    "            l += 1\n",
    "            r += 1\n",
    "    return max_pro \n",
    "\n",
    "def best_time_to_buy_stock_2(prices: List):\n",
    "    left = 0 # buy\n",
    "    right = 1 # sell \n",
    "    max_pro = 0\n",
    "\n",
    "    while right < len(prices):\n",
    "        cur_pro = prices[right] - prices[left]\n",
    "        if prices[left] < prices[right]:\n",
    "            max_pro = max(cur_pro, max_pro)\n",
    "        else:\n",
    "            left = right\n",
    "        right += 1\n",
    "    return max_pro\n",
    "\n",
    "prices = [7,6,4,3,1]\n",
    "best_time_to_buy_stock(prices)\n",
    "\n",
    "def checkInclusion(s1: str, s2: str) -> bool:\n",
    "    if len(s1) > len(s2): return False \n",
    "\n",
    "    s1Count, s2Count = [0] * 26, [0] * 26\n",
    "    for i in range(len(s1)):\n",
    "        s1Count[ord(s1[i]) - ord('a')] += 1\n",
    "        s2Count[ord(s2[i]) - ord('a')] += 1\n",
    "    \n",
    "    matches = 0\n",
    "    for i in range(26):\n",
    "        matches += (1 if s1Count[i] == s2Count[i] else 0)\n",
    "    \n",
    "    l = 0\n",
    "    for r in range(len(s2), len(s2)):\n",
    "        if matches == 26: return True\n",
    "\n",
    "        index = ord(s2[r]) - ord('a')\n",
    "        s2Count[index] += 1\n",
    "        if s1Count[index] == s2Count[index]:\n",
    "            matches += 1\n",
    "        elif s1Count[index] + 1 == s2Count[index]:\n",
    "            matches -= 1\n",
    "\n",
    "        index = ord(s2[l]) -  ord('a')"
   ]
  }
 ],
 "metadata": {
  "kernelspec": {
   "display_name": "cd_venv",
   "language": "python",
   "name": "python3"
  },
  "language_info": {
   "codemirror_mode": {
    "name": "ipython",
    "version": 3
   },
   "file_extension": ".py",
   "mimetype": "text/x-python",
   "name": "python",
   "nbconvert_exporter": "python",
   "pygments_lexer": "ipython3",
   "version": "3.9.6"
  }
 },
 "nbformat": 4,
 "nbformat_minor": 2
}
