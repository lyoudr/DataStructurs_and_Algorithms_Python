{
 "cells": [
  {
   "cell_type": "code",
   "execution_count": null,
   "metadata": {},
   "outputs": [],
   "source": [
    "from typing import List \n",
    "\n",
    "# 11. Container With Most Water\n",
    "\"\"\"\n",
    "You are given an integer array height of length n. There are n vertical lines drawn such that the two endpoints of the ith line are (i, 0) and (i, height[i]).\n",
    "Find two lines that together with the x-axis form a container, such that the container contains the most water.\n",
    "Return the maximum amount of water a container can store.\n",
    "Notice that you may not slant the container.\n",
    "\"\"\"\n",
    "class Solution:\n",
    "    # LINEAR TIME SOLUTION O(n)\n",
    "    def maxArea(self, height: List[int]) -> int:\n",
    "        # most far distance * fewer heith between two stick\n",
    "        # the most far distance is [0, len(height)-1]\n",
    "        max_area = 0\n",
    "        i = 0\n",
    "        j = len(height) - 1\n",
    "        while i < j:\n",
    "            area = min(height[i], height[j]) * (j - i)\n",
    "            max_area = max(max_area, area)\n",
    "            if height[j] > height[i]:\n",
    "                i += 1\n",
    "            else:\n",
    "                j -= 1\n",
    "        return max_area\n"
   ]
  }
 ],
 "metadata": {
  "language_info": {
   "name": "python"
  }
 },
 "nbformat": 4,
 "nbformat_minor": 2
}
