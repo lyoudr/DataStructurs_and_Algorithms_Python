{
 "cells": [
  {
   "cell_type": "code",
   "execution_count": 3,
   "metadata": {},
   "outputs": [
    {
     "name": "stdout",
     "output_type": "stream",
     "text": [
      "[1, 3]\n"
     ]
    }
   ],
   "source": [
    "from typing import List, Optional \n",
    "# 1. Two Sum\n",
    "\"\"\"\n",
    "Given an array of integers nums and an integer target, return indices of the two numbers such that they add up to target.\n",
    "\n",
    "You may assume that each input would have exactly one solution, and you may not use the same element twice.\n",
    "\n",
    "You can return the answer in any order.\n",
    "\"\"\"\n",
    "class Solution:\n",
    "    def twoSum(self, nums: List[int], target: int) -> List[int]:\n",
    "        for i, v in enumerate(nums):\n",
    "            j = i + 1\n",
    "            while j < len(nums):\n",
    "                if v + nums[j] == target:\n",
    "                    return [i,j]\n",
    "                j += 1\n",
    "\n",
    "# -----------------------------------------------------------------------\n",
    "# 121. Best Time to Buy and Sell Stock\n",
    "\"\"\"\n",
    "You are given an array prices where prices[i] is the price of a given stock on the ith day.\n",
    "\n",
    "You want to maximize your profit by choosing a single day to buy one stock and choosing a different day in the future to sell that stock.\n",
    "\n",
    "Return the maximum profit you can achieve from this transaction. If you cannot achieve any profit, return 0.\n",
    "\"\"\"    \n",
    "# move two pointer solution\n",
    "class Solution: \n",
    "    def maxProfit(self, prices: List[int]) -> int:\n",
    "        left = 0 # buy\n",
    "        right = 1 # sell \n",
    "        max_pro = 0\n",
    "\n",
    "        while right < len(prices):\n",
    "            cur_pro = prices[right] - prices[left]\n",
    "            if prices[left] < prices[right]:\n",
    "                max_pro = max(cur_pro, max_pro)\n",
    "            else:\n",
    "                left = right\n",
    "            right += 1\n",
    "        return max_pro            \n",
    "\n"
   ]
  }
 ],
 "metadata": {
  "kernelspec": {
   "display_name": "bk_venv",
   "language": "python",
   "name": "python3"
  },
  "language_info": {
   "codemirror_mode": {
    "name": "ipython",
    "version": 3
   },
   "file_extension": ".py",
   "mimetype": "text/x-python",
   "name": "python",
   "nbconvert_exporter": "python",
   "pygments_lexer": "ipython3",
   "version": "3.9.6"
  }
 },
 "nbformat": 4,
 "nbformat_minor": 2
}
